{
 "cells": [
  {
   "cell_type": "code",
   "execution_count": 1,
   "metadata": {},
   "outputs": [
    {
     "name": "stderr",
     "output_type": "stream",
     "text": [
      "2024-05-18 10:20:00.107865: I tensorflow/core/platform/cpu_feature_guard.cc:210] This TensorFlow binary is optimized to use available CPU instructions in performance-critical operations.\n",
      "To enable the following instructions: AVX2 FMA, in other operations, rebuild TensorFlow with the appropriate compiler flags.\n",
      "2024-05-18 10:20:03.416532: W tensorflow/compiler/tf2tensorrt/utils/py_utils.cc:38] TF-TRT Warning: Could not find TensorRT\n",
      "/tmp/ipykernel_6639/2028257283.py:9: DeprecationWarning: `import kerastuner` is deprecated, please use `import keras_tuner`.\n",
      "  from kerastuner import HyperParameters\n"
     ]
    }
   ],
   "source": [
    "import pandas as pd\n",
    "import numpy as np\n",
    "from sklearn.preprocessing import MinMaxScaler\n",
    "from sklearn.model_selection import GridSearchCV\n",
    "from sklearn.metrics import mean_absolute_error\n",
    "import matplotlib.pyplot as plt\n",
    "import tensorflow as tf\n",
    "import keras_tuner as kt\n",
    "from kerastuner import HyperParameters\n",
    "import os\n",
    "import matplotlib.pyplot as plt\n",
    "import pickle"
   ]
  },
  {
   "cell_type": "code",
   "execution_count": 2,
   "metadata": {},
   "outputs": [
    {
     "name": "stderr",
     "output_type": "stream",
     "text": [
      "/tmp/ipykernel_6639/2588014987.py:1: FutureWarning: Support for nested sequences for 'parse_dates' in pd.read_csv is deprecated. Combine the desired columns with pd.to_datetime after parsing instead.\n",
      "  df = pd.read_csv('processed_data.csv', infer_datetime_format=True, header = 0, parse_dates={'datetime':[0,1]}, index_col=['datetime'])\n",
      "/tmp/ipykernel_6639/2588014987.py:1: FutureWarning: The argument 'infer_datetime_format' is deprecated and will be removed in a future version. A strict version of it is now the default, see https://pandas.pydata.org/pdeps/0004-consistent-to-datetime-parsing.html. You can safely remove this argument.\n",
      "  df = pd.read_csv('processed_data.csv', infer_datetime_format=True, header = 0, parse_dates={'datetime':[0,1]}, index_col=['datetime'])\n"
     ]
    },
    {
     "data": {
      "text/html": [
       "<div>\n",
       "<style scoped>\n",
       "    .dataframe tbody tr th:only-of-type {\n",
       "        vertical-align: middle;\n",
       "    }\n",
       "\n",
       "    .dataframe tbody tr th {\n",
       "        vertical-align: top;\n",
       "    }\n",
       "\n",
       "    .dataframe thead th {\n",
       "        text-align: right;\n",
       "    }\n",
       "</style>\n",
       "<table border=\"1\" class=\"dataframe\">\n",
       "  <thead>\n",
       "    <tr style=\"text-align: right;\">\n",
       "      <th></th>\n",
       "      <th>co_gt</th>\n",
       "      <th>s1_co</th>\n",
       "      <th>c6h6_gt</th>\n",
       "      <th>s2_nhmc</th>\n",
       "      <th>nox_gt</th>\n",
       "      <th>s3_nox</th>\n",
       "      <th>no2_gt</th>\n",
       "      <th>s4_no2</th>\n",
       "      <th>s5_o3</th>\n",
       "      <th>temp</th>\n",
       "      <th>rh</th>\n",
       "      <th>ah</th>\n",
       "    </tr>\n",
       "    <tr>\n",
       "      <th>datetime</th>\n",
       "      <th></th>\n",
       "      <th></th>\n",
       "      <th></th>\n",
       "      <th></th>\n",
       "      <th></th>\n",
       "      <th></th>\n",
       "      <th></th>\n",
       "      <th></th>\n",
       "      <th></th>\n",
       "      <th></th>\n",
       "      <th></th>\n",
       "      <th></th>\n",
       "    </tr>\n",
       "  </thead>\n",
       "  <tbody>\n",
       "    <tr>\n",
       "      <th>10/03/2004 18:00:00</th>\n",
       "      <td>0.396825</td>\n",
       "      <td>0.639299</td>\n",
       "      <td>0.356923</td>\n",
       "      <td>0.527016</td>\n",
       "      <td>0.191142</td>\n",
       "      <td>0.568345</td>\n",
       "      <td>0.445783</td>\n",
       "      <td>0.578780</td>\n",
       "      <td>0.504261</td>\n",
       "      <td>0.333333</td>\n",
       "      <td>0.489</td>\n",
       "      <td>0.280066</td>\n",
       "    </tr>\n",
       "    <tr>\n",
       "      <th>10/03/2004 19:00:00</th>\n",
       "      <td>0.301587</td>\n",
       "      <td>0.576568</td>\n",
       "      <td>0.280000</td>\n",
       "      <td>0.451372</td>\n",
       "      <td>0.117716</td>\n",
       "      <td>0.662670</td>\n",
       "      <td>0.361446</td>\n",
       "      <td>0.508223</td>\n",
       "      <td>0.355890</td>\n",
       "      <td>0.326882</td>\n",
       "      <td>0.477</td>\n",
       "      <td>0.264282</td>\n",
       "    </tr>\n",
       "    <tr>\n",
       "      <th>10/03/2004 20:00:00</th>\n",
       "      <td>0.333333</td>\n",
       "      <td>0.678044</td>\n",
       "      <td>0.267692</td>\n",
       "      <td>0.438071</td>\n",
       "      <td>0.150350</td>\n",
       "      <td>0.635492</td>\n",
       "      <td>0.449799</td>\n",
       "      <td>0.506101</td>\n",
       "      <td>0.407018</td>\n",
       "      <td>0.296774</td>\n",
       "      <td>0.540</td>\n",
       "      <td>0.276352</td>\n",
       "    </tr>\n",
       "    <tr>\n",
       "      <th>10/03/2004 21:00:00</th>\n",
       "      <td>0.333333</td>\n",
       "      <td>0.654059</td>\n",
       "      <td>0.273846</td>\n",
       "      <td>0.445553</td>\n",
       "      <td>0.198135</td>\n",
       "      <td>0.597122</td>\n",
       "      <td>0.481928</td>\n",
       "      <td>0.521485</td>\n",
       "      <td>0.471679</td>\n",
       "      <td>0.277419</td>\n",
       "      <td>0.600</td>\n",
       "      <td>0.294190</td>\n",
       "    </tr>\n",
       "    <tr>\n",
       "      <th>10/03/2004 22:00:00</th>\n",
       "      <td>0.238095</td>\n",
       "      <td>0.558118</td>\n",
       "      <td>0.190769</td>\n",
       "      <td>0.352452</td>\n",
       "      <td>0.150350</td>\n",
       "      <td>0.687450</td>\n",
       "      <td>0.457831</td>\n",
       "      <td>0.471618</td>\n",
       "      <td>0.425063</td>\n",
       "      <td>0.281720</td>\n",
       "      <td>0.596</td>\n",
       "      <td>0.295216</td>\n",
       "    </tr>\n",
       "  </tbody>\n",
       "</table>\n",
       "</div>"
      ],
      "text/plain": [
       "                        co_gt     s1_co   c6h6_gt   s2_nhmc    nox_gt  \\\n",
       "datetime                                                                \n",
       "10/03/2004 18:00:00  0.396825  0.639299  0.356923  0.527016  0.191142   \n",
       "10/03/2004 19:00:00  0.301587  0.576568  0.280000  0.451372  0.117716   \n",
       "10/03/2004 20:00:00  0.333333  0.678044  0.267692  0.438071  0.150350   \n",
       "10/03/2004 21:00:00  0.333333  0.654059  0.273846  0.445553  0.198135   \n",
       "10/03/2004 22:00:00  0.238095  0.558118  0.190769  0.352452  0.150350   \n",
       "\n",
       "                       s3_nox    no2_gt    s4_no2     s5_o3      temp     rh  \\\n",
       "datetime                                                                       \n",
       "10/03/2004 18:00:00  0.568345  0.445783  0.578780  0.504261  0.333333  0.489   \n",
       "10/03/2004 19:00:00  0.662670  0.361446  0.508223  0.355890  0.326882  0.477   \n",
       "10/03/2004 20:00:00  0.635492  0.449799  0.506101  0.407018  0.296774  0.540   \n",
       "10/03/2004 21:00:00  0.597122  0.481928  0.521485  0.471679  0.277419  0.600   \n",
       "10/03/2004 22:00:00  0.687450  0.457831  0.471618  0.425063  0.281720  0.596   \n",
       "\n",
       "                           ah  \n",
       "datetime                       \n",
       "10/03/2004 18:00:00  0.280066  \n",
       "10/03/2004 19:00:00  0.264282  \n",
       "10/03/2004 20:00:00  0.276352  \n",
       "10/03/2004 21:00:00  0.294190  \n",
       "10/03/2004 22:00:00  0.295216  "
      ]
     },
     "execution_count": 2,
     "metadata": {},
     "output_type": "execute_result"
    }
   ],
   "source": [
    "df = pd.read_csv('processed_data.csv', infer_datetime_format=True, header = 0, parse_dates={'datetime':[0,1]}, index_col=['datetime'])\n",
    "df.head()"
   ]
  },
  {
   "cell_type": "code",
   "execution_count": 3,
   "metadata": {},
   "outputs": [],
   "source": [
    "N_FEATURES = len(df.columns)\n",
    "FEATURES_TO_SCALE = [f for f in df.columns if f != 'rh']"
   ]
  },
  {
   "cell_type": "code",
   "execution_count": 4,
   "metadata": {},
   "outputs": [
    {
     "data": {
      "text/plain": [
       "12"
      ]
     },
     "execution_count": 4,
     "metadata": {},
     "output_type": "execute_result"
    }
   ],
   "source": [
    "N_FEATURES"
   ]
  },
  {
   "cell_type": "code",
   "execution_count": 5,
   "metadata": {},
   "outputs": [
    {
     "data": {
      "text/plain": [
       "Index(['co_gt', 's1_co', 'c6h6_gt', 's2_nhmc', 'nox_gt', 's3_nox', 'no2_gt',\n",
       "       's4_no2', 's5_o3', 'temp', 'rh', 'ah'],\n",
       "      dtype='object')"
      ]
     },
     "execution_count": 5,
     "metadata": {},
     "output_type": "execute_result"
    }
   ],
   "source": [
    "df.columns"
   ]
  },
  {
   "cell_type": "code",
   "execution_count": 6,
   "metadata": {},
   "outputs": [],
   "source": [
    "split = int(df.shape[0]*0.80)\n",
    "train_df, test_df = df[:split], df[split:]"
   ]
  },
  {
   "cell_type": "code",
   "execution_count": 7,
   "metadata": {},
   "outputs": [],
   "source": [
    "def split_series(series):\n",
    "  \"\"\"\n",
    "  Splits data into samples of input past observations (one day before) and output future observations (current day).\n",
    "  Returns a tuple of (X, y).\n",
    "  \"\"\"\n",
    "  X, y = list(), list()\n",
    "  for window_start in range(len(series)):\n",
    "    past_end = window_start + 1\n",
    "    future_end = past_end + 1\n",
    "\n",
    "    if future_end > len(series):\n",
    "      break\n",
    "\n",
    "    # slicing the past and future parts of the window\n",
    "    past, future = series[window_start:past_end, :], series[past_end:future_end, :]\n",
    "    X.append(past)\n",
    "    y.append(future)\n",
    "  return np.array(X), np.array(y)"
   ]
  },
  {
   "cell_type": "code",
   "execution_count": 8,
   "metadata": {},
   "outputs": [],
   "source": [
    "X_train, y_train = split_series(train_df.values)\n",
    "X_train = X_train.reshape((X_train.shape[0], X_train.shape[1], N_FEATURES))\n",
    "y_train = y_train.reshape((y_train.shape[0], y_train.shape[1], N_FEATURES))\n",
    "\n",
    "X_test, y_test = split_series(test_df.values)\n",
    "X_test = X_test.reshape((X_test.shape[0], X_test.shape[1], N_FEATURES))\n",
    "y_test = y_test.reshape((y_test.shape[0], y_test.shape[1], N_FEATURES))"
   ]
  },
  {
   "cell_type": "code",
   "execution_count": 31,
   "metadata": {},
   "outputs": [],
   "source": [
    "# Definition of lstm model\n",
    "def build_lstm_model(hp):\n",
    "    model = tf.keras.Sequential()\n",
    "    model.add(tf.keras.layers.LSTM(units=hp.Int('units', min_value=50, max_value=200, step=50), input_shape=(1, N_FEATURES)))\n",
    "    model.add(tf.keras.layers.Dense(N_FEATURES))\n",
    "    \n",
    "    model.compile(optimizer=tf.keras.optimizers.Adam(\n",
    "        learning_rate=hp.Float('learning_rate', min_value=1e-4, max_value=1e-2, sampling='linear', default=1e-3)),\n",
    "        loss='mean_absolute_error') # use MAE as loss function\n",
    "    \n",
    "    return model"
   ]
  },
  {
   "cell_type": "code",
   "execution_count": 32,
   "metadata": {},
   "outputs": [],
   "source": [
    "# Definition of lstm autoencoder model\n",
    "def build_lstm_autoencoder_model(hp):\n",
    "    encoder_inputs = tf.keras.layers.Input(shape=(1, N_FEATURES))\n",
    "    encoder_l1 = tf.keras.layers.LSTM(units=hp.Int('units', min_value=50, max_value=200, step=50), return_state=True)\n",
    "    encoder_outputs1 = encoder_l1(encoder_inputs)\n",
    "\n",
    "    encoder_states1 = encoder_outputs1[1:]\n",
    "\n",
    "    decoder_inputs = tf.keras.layers.RepeatVector(1)(encoder_outputs1[0])\n",
    "\n",
    "    decoder_l1 = tf.keras.layers.LSTM(units=hp.Int('units', min_value=50, max_value=200, step=50), return_sequences=True)(decoder_inputs, initial_state=encoder_states1)\n",
    "    decoder_outputs1 = tf.keras.layers.TimeDistributed(tf.keras.layers.Dense(N_FEATURES))(decoder_l1)\n",
    "\n",
    "    model = tf.keras.models.Model(encoder_inputs, decoder_outputs1)\n",
    "\n",
    "    model.compile(\n",
    "        optimizer=tf.keras.optimizers.Adam(\n",
    "        hp.Float('learning_rate', min_value=1e-4, max_value=1e-2, sampling='linear', default=1e-3)),\n",
    "        loss='mean_absolute_error')  # use MAE as loss function\n",
    "    \n",
    "    return model"
   ]
  },
  {
   "cell_type": "code",
   "execution_count": 33,
   "metadata": {},
   "outputs": [],
   "source": [
    "def tune_hyperparams(model_function, model_name):\n",
    "    \"\"\"\n",
    "    Tunes hyperparameters of a given model as defined by `model_function`.\n",
    "    Returns the retrained model using the best hyperparameter combination with regards to mean absolute error, and the training history for plotting loss.\n",
    "    \"\"\"\n",
    "\n",
    "    # Instantiate a Keras tuner\n",
    "    tuner = kt.RandomSearch(\n",
    "        model_function,\n",
    "        objective='val_loss',\n",
    "        max_trials=5,\n",
    "        executions_per_trial=2,\n",
    "        directory='my_dir',\n",
    "        project_name=model_name)\n",
    "\n",
    "    # Print a summary of the search space\n",
    "    tuner.search_space_summary()\n",
    "\n",
    "    tuner.search(X_train, y_train, epochs=20, validation_data=(X_test, y_test), batch_size=32)\n",
    "\n",
    "    # Get the optimal hyperparameters\n",
    "    best_hps = tuner.get_best_hyperparameters(num_trials=1)[0]\n",
    "\n",
    "    for hp, val in best_hps.values.items():\n",
    "        print(f\"best {hp}: {val}\")\n",
    "\n",
    "    model = tuner.hypermodel.build(best_hps)\n",
    "    history = model.fit(X_train, y_train, epochs=20, validation_data=(X_test, y_test), batch_size=32)\n",
    "\n",
    "    return model, history\n"
   ]
  },
  {
   "cell_type": "code",
   "execution_count": 34,
   "metadata": {},
   "outputs": [],
   "source": [
    "def plot_loss(training_history):\n",
    "    # Extract the loss values for each epoch\n",
    "    train_loss = training_history.history['loss']\n",
    "    val_loss = training_history.history['val_loss']\n",
    "\n",
    "    # Plot training and validation loss\n",
    "    plt.figure(figsize=(10, 6))\n",
    "    plt.plot(train_loss, label='Training Loss')\n",
    "    plt.plot(val_loss, label='Validation Loss')\n",
    "    plt.title('Training and Validation Loss over Epochs')\n",
    "    plt.xticks(range(0, 20, 2))\n",
    "    plt.xlabel('Epochs')\n",
    "    plt.ylabel('Loss')\n",
    "    plt.legend()\n",
    "    plt.grid(True)\n",
    "    plt.show()"
   ]
  },
  {
   "cell_type": "code",
   "execution_count": 39,
   "metadata": {},
   "outputs": [],
   "source": [
    "def test_model(model):\n",
    "    \"\"\"\n",
    "    Prints mean absolute error test results of a given model against the test set\n",
    "    \"\"\"\n",
    "    y_pred = model.predict(X_test)\n",
    "\n",
    "    # Calculate MAE\n",
    "    test_mae = mean_absolute_error(y_test.flatten(), y_pred.flatten())\n",
    "\n",
    "    print(f'MAE: {test_mae}')"
   ]
  },
  {
   "cell_type": "code",
   "execution_count": 36,
   "metadata": {},
   "outputs": [
    {
     "name": "stdout",
     "output_type": "stream",
     "text": [
      "Trial 5 Complete [00h 00m 25s]\n",
      "val_loss: 0.16996700316667557\n",
      "\n",
      "Best val_loss So Far: 0.16299333423376083\n",
      "Total elapsed time: 00h 02m 37s\n",
      "best units: 50\n",
      "best learning_rate: 0.0005600595784940353\n",
      "Epoch 1/20\n"
     ]
    },
    {
     "name": "stdout",
     "output_type": "stream",
     "text": [
      "\u001b[1m224/224\u001b[0m \u001b[32m━━━━━━━━━━━━━━━━━━━━\u001b[0m\u001b[37m\u001b[0m \u001b[1m1s\u001b[0m 2ms/step - loss: 0.2463 - val_loss: 0.1610\n",
      "Epoch 2/20\n",
      "\u001b[1m224/224\u001b[0m \u001b[32m━━━━━━━━━━━━━━━━━━━━\u001b[0m\u001b[37m\u001b[0m \u001b[1m0s\u001b[0m 1ms/step - loss: 0.1477 - val_loss: 0.1641\n",
      "Epoch 3/20\n",
      "\u001b[1m224/224\u001b[0m \u001b[32m━━━━━━━━━━━━━━━━━━━━\u001b[0m\u001b[37m\u001b[0m \u001b[1m0s\u001b[0m 2ms/step - loss: 0.1464 - val_loss: 0.1672\n",
      "Epoch 4/20\n",
      "\u001b[1m224/224\u001b[0m \u001b[32m━━━━━━━━━━━━━━━━━━━━\u001b[0m\u001b[37m\u001b[0m \u001b[1m1s\u001b[0m 2ms/step - loss: 0.1481 - val_loss: 0.1675\n",
      "Epoch 5/20\n",
      "\u001b[1m224/224\u001b[0m \u001b[32m━━━━━━━━━━━━━━━━━━━━\u001b[0m\u001b[37m\u001b[0m \u001b[1m0s\u001b[0m 2ms/step - loss: 0.1458 - val_loss: 0.1690\n",
      "Epoch 6/20\n",
      "\u001b[1m224/224\u001b[0m \u001b[32m━━━━━━━━━━━━━━━━━━━━\u001b[0m\u001b[37m\u001b[0m \u001b[1m0s\u001b[0m 2ms/step - loss: 0.1454 - val_loss: 0.1697\n",
      "Epoch 7/20\n",
      "\u001b[1m224/224\u001b[0m \u001b[32m━━━━━━━━━━━━━━━━━━━━\u001b[0m\u001b[37m\u001b[0m \u001b[1m0s\u001b[0m 2ms/step - loss: 0.1461 - val_loss: 0.1663\n",
      "Epoch 8/20\n",
      "\u001b[1m224/224\u001b[0m \u001b[32m━━━━━━━━━━━━━━━━━━━━\u001b[0m\u001b[37m\u001b[0m \u001b[1m1s\u001b[0m 2ms/step - loss: 0.1466 - val_loss: 0.1685\n",
      "Epoch 9/20\n",
      "\u001b[1m224/224\u001b[0m \u001b[32m━━━━━━━━━━━━━━━━━━━━\u001b[0m\u001b[37m\u001b[0m \u001b[1m1s\u001b[0m 2ms/step - loss: 0.1462 - val_loss: 0.1692\n",
      "Epoch 10/20\n",
      "\u001b[1m224/224\u001b[0m \u001b[32m━━━━━━━━━━━━━━━━━━━━\u001b[0m\u001b[37m\u001b[0m \u001b[1m0s\u001b[0m 2ms/step - loss: 0.1453 - val_loss: 0.1695\n",
      "Epoch 11/20\n",
      "\u001b[1m224/224\u001b[0m \u001b[32m━━━━━━━━━━━━━━━━━━━━\u001b[0m\u001b[37m\u001b[0m \u001b[1m0s\u001b[0m 1ms/step - loss: 0.1463 - val_loss: 0.1695\n",
      "Epoch 12/20\n",
      "\u001b[1m224/224\u001b[0m \u001b[32m━━━━━━━━━━━━━━━━━━━━\u001b[0m\u001b[37m\u001b[0m \u001b[1m0s\u001b[0m 2ms/step - loss: 0.1460 - val_loss: 0.1691\n",
      "Epoch 13/20\n",
      "\u001b[1m224/224\u001b[0m \u001b[32m━━━━━━━━━━━━━━━━━━━━\u001b[0m\u001b[37m\u001b[0m \u001b[1m1s\u001b[0m 2ms/step - loss: 0.1462 - val_loss: 0.1711\n",
      "Epoch 14/20\n",
      "\u001b[1m224/224\u001b[0m \u001b[32m━━━━━━━━━━━━━━━━━━━━\u001b[0m\u001b[37m\u001b[0m \u001b[1m0s\u001b[0m 2ms/step - loss: 0.1469 - val_loss: 0.1656\n",
      "Epoch 15/20\n",
      "\u001b[1m224/224\u001b[0m \u001b[32m━━━━━━━━━━━━━━━━━━━━\u001b[0m\u001b[37m\u001b[0m \u001b[1m0s\u001b[0m 1ms/step - loss: 0.1444 - val_loss: 0.1727\n",
      "Epoch 16/20\n",
      "\u001b[1m224/224\u001b[0m \u001b[32m━━━━━━━━━━━━━━━━━━━━\u001b[0m\u001b[37m\u001b[0m \u001b[1m1s\u001b[0m 1ms/step - loss: 0.1466 - val_loss: 0.1703\n",
      "Epoch 17/20\n",
      "\u001b[1m224/224\u001b[0m \u001b[32m━━━━━━━━━━━━━━━━━━━━\u001b[0m\u001b[37m\u001b[0m \u001b[1m0s\u001b[0m 2ms/step - loss: 0.1463 - val_loss: 0.1710\n",
      "Epoch 18/20\n",
      "\u001b[1m224/224\u001b[0m \u001b[32m━━━━━━━━━━━━━━━━━━━━\u001b[0m\u001b[37m\u001b[0m \u001b[1m1s\u001b[0m 2ms/step - loss: 0.1459 - val_loss: 0.1676\n",
      "Epoch 19/20\n",
      "\u001b[1m224/224\u001b[0m \u001b[32m━━━━━━━━━━━━━━━━━━━━\u001b[0m\u001b[37m\u001b[0m \u001b[1m1s\u001b[0m 2ms/step - loss: 0.1443 - val_loss: 0.1702\n",
      "Epoch 20/20\n",
      "\u001b[1m224/224\u001b[0m \u001b[32m━━━━━━━━━━━━━━━━━━━━\u001b[0m\u001b[37m\u001b[0m \u001b[1m1s\u001b[0m 1ms/step - loss: 0.1456 - val_loss: 0.1709\n"
     ]
    }
   ],
   "source": [
    "# First, evaluate a simple LSTM\n",
    "lstm, lstm_history = tune_hyperparams(build_lstm_model, \"lstm\")"
   ]
  },
  {
   "cell_type": "code",
   "execution_count": 37,
   "metadata": {},
   "outputs": [
    {
     "data": {
      "image/png": "[encoded data removed]",
      "text/plain": [
       "<Figure size 1000x600 with 1 Axes>"
      ]
     },
     "metadata": {},
     "output_type": "display_data"
    }
   ],
   "source": [
    "plot_loss(lstm_history)"
   ]
  },
  {
   "cell_type": "markdown",
   "metadata": {},
   "source": [
    "From the learning curves, we can observe that the simple LSTM is severely underfitting the data. The model may not have a suitable capacity for the complexity of the dataset."
   ]
  },
  {
   "cell_type": "code",
   "execution_count": 40,
   "metadata": {},
   "outputs": [
    {
     "name": "stdout",
     "output_type": "stream",
     "text": [
      "\u001b[1m56/56\u001b[0m \u001b[32m━━━━━━━━━━━━━━━━━━━━\u001b[0m\u001b[37m\u001b[0m \u001b[1m0s\u001b[0m 1ms/step\n",
      "MAE: 0.16835395811958387\n"
     ]
    }
   ],
   "source": [
    "test_model(lstm)"
   ]
  },
  {
   "cell_type": "markdown",
   "metadata": {},
   "source": [
    "Simple LSTM gives a final MAE score of approximately 0.168. Now, we can compare this performance against a more complex model, a Stacked LSTM sequence to sequence Autoencoder."
   ]
  },
  {
   "cell_type": "code",
   "execution_count": 41,
   "metadata": {},
   "outputs": [
    {
     "name": "stdout",
     "output_type": "stream",
     "text": [
      "Reloading Tuner from my_dir/lstm_autoencoder/tuner0.json\n",
      "Search space summary\n",
      "Default search space size: 2\n",
      "units (Int)\n",
      "{'default': None, 'conditions': [], 'min_value': 50, 'max_value': 200, 'step': 50, 'sampling': 'linear'}\n",
      "learning_rate (Float)\n",
      "{'default': 0.001, 'conditions': [], 'min_value': 0.0001, 'max_value': 0.01, 'step': None, 'sampling': 'log'}\n",
      "best units: 200\n",
      "best learning_rate: 0.00028925868757120307\n",
      "Epoch 1/20\n",
      "\u001b[1m224/224\u001b[0m \u001b[32m━━━━━━━━━━━━━━━━━━━━\u001b[0m\u001b[37m\u001b[0m \u001b[1m3s\u001b[0m 7ms/step - loss: 0.2109 - val_loss: 0.0827\n",
      "Epoch 2/20\n",
      "\u001b[1m224/224\u001b[0m \u001b[32m━━━━━━━━━━━━━━━━━━━━\u001b[0m\u001b[37m\u001b[0m \u001b[1m2s\u001b[0m 6ms/step - loss: 0.0686 - val_loss: 0.0674\n",
      "Epoch 3/20\n",
      "\u001b[1m224/224\u001b[0m \u001b[32m━━━━━━━━━━━━━━━━━━━━\u001b[0m\u001b[37m\u001b[0m \u001b[1m3s\u001b[0m 6ms/step - loss: 0.0598 - val_loss: 0.0638\n",
      "Epoch 4/20\n",
      "\u001b[1m224/224\u001b[0m \u001b[32m━━━━━━━━━━━━━━━━━━━━\u001b[0m\u001b[37m\u001b[0m \u001b[1m3s\u001b[0m 6ms/step - loss: 0.0572 - val_loss: 0.0601\n",
      "Epoch 5/20\n",
      "\u001b[1m224/224\u001b[0m \u001b[32m━━━━━━━━━━━━━━━━━━━━\u001b[0m\u001b[37m\u001b[0m \u001b[1m1s\u001b[0m 6ms/step - loss: 0.0561 - val_loss: 0.0586\n",
      "Epoch 6/20\n",
      "\u001b[1m224/224\u001b[0m \u001b[32m━━━━━━━━━━━━━━━━━━━━\u001b[0m\u001b[37m\u001b[0m \u001b[1m1s\u001b[0m 6ms/step - loss: 0.0550 - val_loss: 0.0572\n",
      "Epoch 7/20\n",
      "\u001b[1m224/224\u001b[0m \u001b[32m━━━━━━━━━━━━━━━━━━━━\u001b[0m\u001b[37m\u001b[0m \u001b[1m3s\u001b[0m 6ms/step - loss: 0.0537 - val_loss: 0.0554\n",
      "Epoch 8/20\n",
      "\u001b[1m224/224\u001b[0m \u001b[32m━━━━━━━━━━━━━━━━━━━━\u001b[0m\u001b[37m\u001b[0m \u001b[1m2s\u001b[0m 6ms/step - loss: 0.0536 - val_loss: 0.0550\n",
      "Epoch 9/20\n",
      "\u001b[1m224/224\u001b[0m \u001b[32m━━━━━━━━━━━━━━━━━━━━\u001b[0m\u001b[37m\u001b[0m \u001b[1m1s\u001b[0m 6ms/step - loss: 0.0525 - val_loss: 0.0549\n",
      "Epoch 10/20\n",
      "\u001b[1m224/224\u001b[0m \u001b[32m━━━━━━━━━━━━━━━━━━━━\u001b[0m\u001b[37m\u001b[0m \u001b[1m3s\u001b[0m 6ms/step - loss: 0.0517 - val_loss: 0.0548\n",
      "Epoch 11/20\n",
      "\u001b[1m224/224\u001b[0m \u001b[32m━━━━━━━━━━━━━━━━━━━━\u001b[0m\u001b[37m\u001b[0m \u001b[1m3s\u001b[0m 6ms/step - loss: 0.0523 - val_loss: 0.0541\n",
      "Epoch 12/20\n",
      "\u001b[1m224/224\u001b[0m \u001b[32m━━━━━━━━━━━━━━━━━━━━\u001b[0m\u001b[37m\u001b[0m \u001b[1m1s\u001b[0m 6ms/step - loss: 0.0524 - val_loss: 0.0546\n",
      "Epoch 13/20\n",
      "\u001b[1m224/224\u001b[0m \u001b[32m━━━━━━━━━━━━━━━━━━━━\u001b[0m\u001b[37m\u001b[0m \u001b[1m1s\u001b[0m 5ms/step - loss: 0.0513 - val_loss: 0.0529\n",
      "Epoch 14/20\n",
      "\u001b[1m224/224\u001b[0m \u001b[32m━━━━━━━━━━━━━━━━━━━━\u001b[0m\u001b[37m\u001b[0m \u001b[1m1s\u001b[0m 6ms/step - loss: 0.0517 - val_loss: 0.0524\n",
      "Epoch 15/20\n",
      "\u001b[1m224/224\u001b[0m \u001b[32m━━━━━━━━━━━━━━━━━━━━\u001b[0m\u001b[37m\u001b[0m \u001b[1m1s\u001b[0m 6ms/step - loss: 0.0514 - val_loss: 0.0524\n",
      "Epoch 16/20\n",
      "\u001b[1m224/224\u001b[0m \u001b[32m━━━━━━━━━━━━━━━━━━━━\u001b[0m\u001b[37m\u001b[0m \u001b[1m2s\u001b[0m 7ms/step - loss: 0.0535 - val_loss: 0.0520\n",
      "Epoch 17/20\n",
      "\u001b[1m224/224\u001b[0m \u001b[32m━━━━━━━━━━━━━━━━━━━━\u001b[0m\u001b[37m\u001b[0m \u001b[1m1s\u001b[0m 6ms/step - loss: 0.0514 - val_loss: 0.0524\n",
      "Epoch 18/20\n",
      "\u001b[1m224/224\u001b[0m \u001b[32m━━━━━━━━━━━━━━━━━━━━\u001b[0m\u001b[37m\u001b[0m \u001b[1m1s\u001b[0m 5ms/step - loss: 0.0525 - val_loss: 0.0519\n",
      "Epoch 19/20\n",
      "\u001b[1m224/224\u001b[0m \u001b[32m━━━━━━━━━━━━━━━━━━━━\u001b[0m\u001b[37m\u001b[0m \u001b[1m2s\u001b[0m 7ms/step - loss: 0.0512 - val_loss: 0.0534\n",
      "Epoch 20/20\n",
      "\u001b[1m224/224\u001b[0m \u001b[32m━━━━━━━━━━━━━━━━━━━━\u001b[0m\u001b[37m\u001b[0m \u001b[1m1s\u001b[0m 5ms/step - loss: 0.0518 - val_loss: 0.0521\n"
     ]
    }
   ],
   "source": [
    "# Now, evaluate the LSTM autoencoder\n",
    "lstm_autoencoder, lstm_autoencoder_history = tune_hyperparams(build_lstm_autoencoder_model, \"lstm_autoencoder\")"
   ]
  },
  {
   "cell_type": "code",
   "execution_count": 42,
   "metadata": {},
   "outputs": [
    {
     "data": {
      "image/png": "[encoded data removed]",
      "text/plain": [
       "<Figure size 1000x600 with 1 Axes>"
      ]
     },
     "metadata": {},
     "output_type": "display_data"
    }
   ],
   "source": [
    "plot_loss(lstm_autoencoder_history)"
   ]
  },
  {
   "cell_type": "markdown",
   "metadata": {},
   "source": [
    "The learning curve for the LSTM autoencoder model shows a good fit, as the training and validation losses that decrease to a point of stability with a minimal gap between the two final loss values."
   ]
  },
  {
   "cell_type": "code",
   "execution_count": 43,
   "metadata": {},
   "outputs": [
    {
     "name": "stdout",
     "output_type": "stream",
     "text": [
      "\u001b[1m56/56\u001b[0m \u001b[32m━━━━━━━━━━━━━━━━━━━━\u001b[0m\u001b[37m\u001b[0m \u001b[1m0s\u001b[0m 5ms/step\n",
      "MAE: 0.052131885220425986\n"
     ]
    }
   ],
   "source": [
    "test_model(lstm_autoencoder)"
   ]
  },
  {
   "cell_type": "markdown",
   "metadata": {},
   "source": [
    "To confirm the superiority of LSTM autoencoder over a simple LSTM, the former achieves a MAE test score of approximately 0.052!"
   ]
  },
  {
   "cell_type": "code",
   "execution_count": 44,
   "metadata": {},
   "outputs": [
    {
     "name": "stderr",
     "output_type": "stream",
     "text": [
      "/opt/conda/envs/ds_env/lib/python3.10/site-packages/sklearn/base.py:376: InconsistentVersionWarning: Trying to unpickle estimator MinMaxScaler from version 1.4.1.post1 when using version 1.4.2. This might lead to breaking code or invalid results. Use at your own risk. For more info please refer to:\n",
      "https://scikit-learn.org/stable/model_persistence.html#security-maintainability-limitations\n",
      "  warnings.warn(\n"
     ]
    }
   ],
   "source": [
    "# Load the scaler\n",
    "with open('scaler.pkl', 'rb') as file:\n",
    "    scaler = pickle.load(file)"
   ]
  },
  {
   "cell_type": "code",
   "execution_count": 45,
   "metadata": {},
   "outputs": [
    {
     "name": "stdout",
     "output_type": "stream",
     "text": [
      "[[0.06349206 0.23431734 0.04923077 0.1354946  0.10839161 0.48840927\n",
      "  0.2248996  0.28753316 0.20551378 0.33548387 0.678      0.42652592]]\n",
      "\u001b[1m1/1\u001b[0m \u001b[32m━━━━━━━━━━━━━━━━━━━━\u001b[0m\u001b[37m\u001b[0m \u001b[1m0s\u001b[0m 14ms/step\n"
     ]
    },
    {
     "name": "stderr",
     "output_type": "stream",
     "text": [
      "/opt/conda/envs/ds_env/lib/python3.10/site-packages/sklearn/base.py:493: UserWarning: X does not have valid feature names, but MinMaxScaler was fitted with feature names\n",
      "  warnings.warn(\n"
     ]
    },
    {
     "data": {
      "text/plain": [
       "array([[[0.09006663, 0.24677247, 0.07467739, 0.19382699, 0.11276346,\n",
       "         0.4740454 , 0.23680127, 0.2985784 , 0.22488509, 0.31669953,\n",
       "         0.67644364, 0.41992757]]], dtype=float32)"
      ]
     },
     "execution_count": 45,
     "metadata": {},
     "output_type": "execute_result"
    }
   ],
   "source": [
    "# Test predictions with an array from the original scale\n",
    "input_vals = np.array([0.5,921,1.9,575,95,956,58,1143,672,13.7,67.8,1.0575])\n",
    "input_vals = input_vals.reshape(1, -1)\n",
    "rh = input_vals[:, 10].reshape(-1, 1) \n",
    "input_vals = scaler.transform(input_vals[:, [i for i in range(input_vals.shape[1]) if i != 10]])\n",
    "input_vals = np.insert(input_vals, 10, rh/100, axis=1)\n",
    "print(input_vals)\n",
    "\n",
    "input_arr = input_vals.reshape((1, 1, 12))\n",
    "\n",
    "y_pred = lstm_autoencoder.predict(input_arr)\n",
    "y_pred"
   ]
  },
  {
   "cell_type": "code",
   "execution_count": 46,
   "metadata": {},
   "outputs": [
    {
     "name": "stdout",
     "output_type": "stream",
     "text": [
      "(1, 11)\n",
      "[[6.6741973e-01 9.3450134e+02 2.7270153e+00 6.4517383e+02 9.8751045e+01\n",
      "  9.3803076e+02 6.0963516e+01 1.1638203e+03 7.1064575e+02 1.2826529e+01\n",
      "  1.0439978e+00]]\n",
      "co_gt: 0.6674197316169739\n",
      "s1_co: 934.5013427734375\n",
      "c6h6_gt: 2.727015256881714\n",
      "s2_nhmc: 645.173828125\n",
      "nox_gt: 98.75104522705078\n",
      "s3_nox: 938.03076171875\n",
      "no2_gt: 60.96351623535156\n",
      "s4_no2: 1163.8203125\n",
      "s5_o3: 710.645751953125\n",
      "temp: 12.826528549194336\n",
      "rh: 0.6764436364173889\n",
      "ah: 1.0439977645874023\n"
     ]
    }
   ],
   "source": [
    "y_pred = y_pred.reshape(-1, N_FEATURES)\n",
    "# scale features except rh\n",
    "input_to_invert = y_pred[:, [i for i in range(y_pred.shape[1]) if i != 10]]\n",
    "print(input_to_invert.shape)\n",
    "outputs = scaler.inverse_transform(input_to_invert)\n",
    "print(outputs)\n",
    "outputs = np.insert(outputs, 10, y_pred[:, 10], axis=1)\n",
    "\n",
    "for feature, val in zip(df.columns, outputs.reshape(N_FEATURES)):\n",
    "    print(f\"{feature}: {val}\")"
   ]
  },
  {
   "cell_type": "code",
   "execution_count": 47,
   "metadata": {},
   "outputs": [],
   "source": [
    "with open('lstm_autoencoder.pkl', 'wb') as f:\n",
    "    pickle.dump(lstm_autoencoder, f)"
   ]
  },
  {
   "cell_type": "code",
   "execution_count": null,
   "metadata": {},
   "outputs": [],
   "source": []
  }
 ],
 "metadata": {
  "kernelspec": {
   "display_name": "ds_env",
   "language": "python",
   "name": "python3"
  },
  "language_info": {
   "codemirror_mode": {
    "name": "ipython",
    "version": 3
   },
   "file_extension": ".py",
   "mimetype": "text/x-python",
   "name": "python",
   "nbconvert_exporter": "python",
   "pygments_lexer": "ipython3",
   "version": "3.10.0"
  }
 },
 "nbformat": 4,
 "nbformat_minor": 2
}
