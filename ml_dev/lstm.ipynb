{
 "cells": [
  {
   "cell_type": "code",
   "execution_count": 1,
   "metadata": {},
   "outputs": [
    {
     "name": "stderr",
     "output_type": "stream",
     "text": [
      "2024-05-18 09:00:00.299818: I tensorflow/core/platform/cpu_feature_guard.cc:210] This TensorFlow binary is optimized to use available CPU instructions in performance-critical operations.\n",
      "To enable the following instructions: AVX2 FMA, in other operations, rebuild TensorFlow with the appropriate compiler flags.\n",
      "2024-05-18 09:00:01.220890: W tensorflow/compiler/tf2tensorrt/utils/py_utils.cc:38] TF-TRT Warning: Could not find TensorRT\n",
      "/tmp/ipykernel_82356/1648194996.py:10: DeprecationWarning: `import kerastuner` is deprecated, please use `import keras_tuner`.\n",
      "  from kerastuner import HyperParameters\n"
     ]
    }
   ],
   "source": [
    "import pandas as pd\n",
    "import numpy as np\n",
    "from sklearn.preprocessing import MinMaxScaler\n",
    "from sklearn.model_selection import GridSearchCV\n",
    "from sklearn.metrics import mean_absolute_error\n",
    "import matplotlib.pyplot as plt\n",
    "import tensorflow as tf\n",
    "from scikeras.wrappers import KerasRegressor\n",
    "import keras_tuner as kt\n",
    "from kerastuner import HyperParameters\n",
    "import os\n",
    "import matplotlib.pyplot as plt\n",
    "import pickle"
   ]
  },
  {
   "cell_type": "code",
   "execution_count": 2,
   "metadata": {},
   "outputs": [
    {
     "name": "stderr",
     "output_type": "stream",
     "text": [
      "/tmp/ipykernel_82356/2588014987.py:1: FutureWarning: Support for nested sequences for 'parse_dates' in pd.read_csv is deprecated. Combine the desired columns with pd.to_datetime after parsing instead.\n",
      "  df = pd.read_csv('processed_data.csv', infer_datetime_format=True, header = 0, parse_dates={'datetime':[0,1]}, index_col=['datetime'])\n",
      "/tmp/ipykernel_82356/2588014987.py:1: FutureWarning: The argument 'infer_datetime_format' is deprecated and will be removed in a future version. A strict version of it is now the default, see https://pandas.pydata.org/pdeps/0004-consistent-to-datetime-parsing.html. You can safely remove this argument.\n",
      "  df = pd.read_csv('processed_data.csv', infer_datetime_format=True, header = 0, parse_dates={'datetime':[0,1]}, index_col=['datetime'])\n"
     ]
    },
    {
     "data": {
      "text/html": [
       "<div>\n",
       "<style scoped>\n",
       "    .dataframe tbody tr th:only-of-type {\n",
       "        vertical-align: middle;\n",
       "    }\n",
       "\n",
       "    .dataframe tbody tr th {\n",
       "        vertical-align: top;\n",
       "    }\n",
       "\n",
       "    .dataframe thead th {\n",
       "        text-align: right;\n",
       "    }\n",
       "</style>\n",
       "<table border=\"1\" class=\"dataframe\">\n",
       "  <thead>\n",
       "    <tr style=\"text-align: right;\">\n",
       "      <th></th>\n",
       "      <th>co_gt</th>\n",
       "      <th>s1_co</th>\n",
       "      <th>c6h6_gt</th>\n",
       "      <th>s2_nhmc</th>\n",
       "      <th>nox_gt</th>\n",
       "      <th>s3_nox</th>\n",
       "      <th>no2_gt</th>\n",
       "      <th>s4_no2</th>\n",
       "      <th>s5_o3</th>\n",
       "      <th>temp</th>\n",
       "      <th>rh</th>\n",
       "      <th>ah</th>\n",
       "    </tr>\n",
       "    <tr>\n",
       "      <th>datetime</th>\n",
       "      <th></th>\n",
       "      <th></th>\n",
       "      <th></th>\n",
       "      <th></th>\n",
       "      <th></th>\n",
       "      <th></th>\n",
       "      <th></th>\n",
       "      <th></th>\n",
       "      <th></th>\n",
       "      <th></th>\n",
       "      <th></th>\n",
       "      <th></th>\n",
       "    </tr>\n",
       "  </thead>\n",
       "  <tbody>\n",
       "    <tr>\n",
       "      <th>10/03/2004 18:00:00</th>\n",
       "      <td>0.396825</td>\n",
       "      <td>0.639299</td>\n",
       "      <td>0.356923</td>\n",
       "      <td>0.527016</td>\n",
       "      <td>0.191142</td>\n",
       "      <td>0.568345</td>\n",
       "      <td>0.445783</td>\n",
       "      <td>0.578780</td>\n",
       "      <td>0.504261</td>\n",
       "      <td>0.333333</td>\n",
       "      <td>0.489</td>\n",
       "      <td>0.280066</td>\n",
       "    </tr>\n",
       "    <tr>\n",
       "      <th>10/03/2004 19:00:00</th>\n",
       "      <td>0.301587</td>\n",
       "      <td>0.576568</td>\n",
       "      <td>0.280000</td>\n",
       "      <td>0.451372</td>\n",
       "      <td>0.117716</td>\n",
       "      <td>0.662670</td>\n",
       "      <td>0.361446</td>\n",
       "      <td>0.508223</td>\n",
       "      <td>0.355890</td>\n",
       "      <td>0.326882</td>\n",
       "      <td>0.477</td>\n",
       "      <td>0.264282</td>\n",
       "    </tr>\n",
       "    <tr>\n",
       "      <th>10/03/2004 20:00:00</th>\n",
       "      <td>0.333333</td>\n",
       "      <td>0.678044</td>\n",
       "      <td>0.267692</td>\n",
       "      <td>0.438071</td>\n",
       "      <td>0.150350</td>\n",
       "      <td>0.635492</td>\n",
       "      <td>0.449799</td>\n",
       "      <td>0.506101</td>\n",
       "      <td>0.407018</td>\n",
       "      <td>0.296774</td>\n",
       "      <td>0.540</td>\n",
       "      <td>0.276352</td>\n",
       "    </tr>\n",
       "    <tr>\n",
       "      <th>10/03/2004 21:00:00</th>\n",
       "      <td>0.333333</td>\n",
       "      <td>0.654059</td>\n",
       "      <td>0.273846</td>\n",
       "      <td>0.445553</td>\n",
       "      <td>0.198135</td>\n",
       "      <td>0.597122</td>\n",
       "      <td>0.481928</td>\n",
       "      <td>0.521485</td>\n",
       "      <td>0.471679</td>\n",
       "      <td>0.277419</td>\n",
       "      <td>0.600</td>\n",
       "      <td>0.294190</td>\n",
       "    </tr>\n",
       "    <tr>\n",
       "      <th>10/03/2004 22:00:00</th>\n",
       "      <td>0.238095</td>\n",
       "      <td>0.558118</td>\n",
       "      <td>0.190769</td>\n",
       "      <td>0.352452</td>\n",
       "      <td>0.150350</td>\n",
       "      <td>0.687450</td>\n",
       "      <td>0.457831</td>\n",
       "      <td>0.471618</td>\n",
       "      <td>0.425063</td>\n",
       "      <td>0.281720</td>\n",
       "      <td>0.596</td>\n",
       "      <td>0.295216</td>\n",
       "    </tr>\n",
       "  </tbody>\n",
       "</table>\n",
       "</div>"
      ],
      "text/plain": [
       "                        co_gt     s1_co   c6h6_gt   s2_nhmc    nox_gt  \\\n",
       "datetime                                                                \n",
       "10/03/2004 18:00:00  0.396825  0.639299  0.356923  0.527016  0.191142   \n",
       "10/03/2004 19:00:00  0.301587  0.576568  0.280000  0.451372  0.117716   \n",
       "10/03/2004 20:00:00  0.333333  0.678044  0.267692  0.438071  0.150350   \n",
       "10/03/2004 21:00:00  0.333333  0.654059  0.273846  0.445553  0.198135   \n",
       "10/03/2004 22:00:00  0.238095  0.558118  0.190769  0.352452  0.150350   \n",
       "\n",
       "                       s3_nox    no2_gt    s4_no2     s5_o3      temp     rh  \\\n",
       "datetime                                                                       \n",
       "10/03/2004 18:00:00  0.568345  0.445783  0.578780  0.504261  0.333333  0.489   \n",
       "10/03/2004 19:00:00  0.662670  0.361446  0.508223  0.355890  0.326882  0.477   \n",
       "10/03/2004 20:00:00  0.635492  0.449799  0.506101  0.407018  0.296774  0.540   \n",
       "10/03/2004 21:00:00  0.597122  0.481928  0.521485  0.471679  0.277419  0.600   \n",
       "10/03/2004 22:00:00  0.687450  0.457831  0.471618  0.425063  0.281720  0.596   \n",
       "\n",
       "                           ah  \n",
       "datetime                       \n",
       "10/03/2004 18:00:00  0.280066  \n",
       "10/03/2004 19:00:00  0.264282  \n",
       "10/03/2004 20:00:00  0.276352  \n",
       "10/03/2004 21:00:00  0.294190  \n",
       "10/03/2004 22:00:00  0.295216  "
      ]
     },
     "execution_count": 2,
     "metadata": {},
     "output_type": "execute_result"
    }
   ],
   "source": [
    "df = pd.read_csv('processed_data.csv', infer_datetime_format=True, header = 0, parse_dates={'datetime':[0,1]}, index_col=['datetime'])\n",
    "df.head()"
   ]
  },
  {
   "cell_type": "code",
   "execution_count": 3,
   "metadata": {},
   "outputs": [],
   "source": [
    "N_FEATURES = len(df.columns)\n",
    "FEATURES_TO_SCALE = [f for f in df.columns if f != 'rh']"
   ]
  },
  {
   "cell_type": "code",
   "execution_count": 4,
   "metadata": {},
   "outputs": [
    {
     "data": {
      "text/plain": [
       "12"
      ]
     },
     "execution_count": 4,
     "metadata": {},
     "output_type": "execute_result"
    }
   ],
   "source": [
    "N_FEATURES"
   ]
  },
  {
   "cell_type": "code",
   "execution_count": 5,
   "metadata": {},
   "outputs": [
    {
     "data": {
      "text/plain": [
       "Index(['co_gt', 's1_co', 'c6h6_gt', 's2_nhmc', 'nox_gt', 's3_nox', 'no2_gt',\n",
       "       's4_no2', 's5_o3', 'temp', 'rh', 'ah'],\n",
       "      dtype='object')"
      ]
     },
     "execution_count": 5,
     "metadata": {},
     "output_type": "execute_result"
    }
   ],
   "source": [
    "df.columns"
   ]
  },
  {
   "cell_type": "code",
   "execution_count": 6,
   "metadata": {},
   "outputs": [],
   "source": [
    "split = int(df.shape[0]*0.80)\n",
    "train_df, test_df = df[:split], df[split:]"
   ]
  },
  {
   "cell_type": "code",
   "execution_count": 7,
   "metadata": {},
   "outputs": [],
   "source": [
    "def split_series(series):\n",
    "  \"\"\"\n",
    "  Splits data into samples of input past observations (one day before) and output future observations (current day).\n",
    "  Returns a tuple of (X, y).\n",
    "  \"\"\"\n",
    "  X, y = list(), list()\n",
    "  for window_start in range(len(series)):\n",
    "    past_end = window_start + 1\n",
    "    future_end = past_end + 1\n",
    "\n",
    "    if future_end > len(series):\n",
    "      break\n",
    "\n",
    "    # slicing the past and future parts of the window\n",
    "    past, future = series[window_start:past_end, :], series[past_end:future_end, :]\n",
    "    X.append(past)\n",
    "    y.append(future)\n",
    "  return np.array(X), np.array(y)"
   ]
  },
  {
   "cell_type": "code",
   "execution_count": 8,
   "metadata": {},
   "outputs": [],
   "source": [
    "X_train, y_train = split_series(train_df.values)\n",
    "X_train = X_train.reshape((X_train.shape[0], X_train.shape[1], N_FEATURES))\n",
    "y_train = y_train.reshape((y_train.shape[0], y_train.shape[1], N_FEATURES))\n",
    "\n",
    "X_test, y_test = split_series(test_df.values)\n",
    "X_test = X_test.reshape((X_test.shape[0], X_test.shape[1], N_FEATURES))\n",
    "y_test = y_test.reshape((y_test.shape[0], y_test.shape[1], N_FEATURES))"
   ]
  },
  {
   "cell_type": "code",
   "execution_count": 9,
   "metadata": {},
   "outputs": [],
   "source": [
    "# Definition of lstm autoencoder model\n",
    "def build_lstm_autoencoder_model(hp):\n",
    "    encoder_inputs = tf.keras.layers.Input(shape=(1, N_FEATURES))\n",
    "    encoder_l1 = tf.keras.layers.LSTM(units=hp.Int('units', min_value=50, max_value=200, step=50), return_state=True)\n",
    "    encoder_outputs1 = encoder_l1(encoder_inputs)\n",
    "\n",
    "    encoder_states1 = encoder_outputs1[1:]\n",
    "\n",
    "    decoder_inputs = tf.keras.layers.RepeatVector(1)(encoder_outputs1[0])\n",
    "\n",
    "    decoder_l1 = tf.keras.layers.LSTM(units=hp.Int('units', min_value=50, max_value=200, step=50), return_sequences=True)(decoder_inputs, initial_state=encoder_states1)\n",
    "    decoder_outputs1 = tf.keras.layers.TimeDistributed(tf.keras.layers.Dense(N_FEATURES))(decoder_l1)\n",
    "\n",
    "    model = tf.keras.models.Model(encoder_inputs, decoder_outputs1)\n",
    "\n",
    "    model.compile(\n",
    "        optimizer=tf.keras.optimizers.Adam(\n",
    "            hp.Float('learning_rate', min_value=1e-4, max_value=1e-2, sampling='LOG', default=1e-3)),\n",
    "        loss='mean_absolute_error')  # use MAE as loss function\n",
    "    \n",
    "    return model"
   ]
  },
  {
   "cell_type": "code",
   "execution_count": 10,
   "metadata": {},
   "outputs": [
    {
     "name": "stdout",
     "output_type": "stream",
     "text": [
      "Search space summary\n",
      "Default search space size: 2\n",
      "units (Int)\n",
      "{'default': None, 'conditions': [], 'min_value': 50, 'max_value': 200, 'step': 50, 'sampling': 'linear'}\n",
      "learning_rate (Float)\n",
      "{'default': 0.001, 'conditions': [], 'min_value': 0.0001, 'max_value': 0.01, 'step': None, 'sampling': 'log'}\n"
     ]
    }
   ],
   "source": [
    "tuner = kt.RandomSearch(\n",
    "    build_lstm_autoencoder_model,\n",
    "    objective='val_loss',\n",
    "    max_trials=5,\n",
    "    executions_per_trial=2,\n",
    "    directory='my_dir',\n",
    "    project_name='lstm_autoencoder')\n",
    "\n",
    "# Print a summary of the search space\n",
    "tuner.search_space_summary()"
   ]
  },
  {
   "cell_type": "code",
   "execution_count": 11,
   "metadata": {},
   "outputs": [
    {
     "name": "stdout",
     "output_type": "stream",
     "text": [
      "Trial 5 Complete [00h 00m 28s]\n",
      "val_loss: 0.052083494141697884\n",
      "\n",
      "Best val_loss So Far: 0.0519037451595068\n",
      "Total elapsed time: 00h 03m 42s\n"
     ]
    },
    {
     "ename": "ValueError",
     "evalue": "too many values to unpack (expected 2)",
     "output_type": "error",
     "traceback": [
      "\u001b[0;31m---------------------------------------------------------------------------\u001b[0m",
      "\u001b[0;31mValueError\u001b[0m                                Traceback (most recent call last)",
      "Cell \u001b[0;32mIn[11], line 6\u001b[0m\n\u001b[1;32m      3\u001b[0m \u001b[38;5;66;03m# Get the optimal hyperparameters\u001b[39;00m\n\u001b[1;32m      4\u001b[0m best_hps \u001b[38;5;241m=\u001b[39m tuner\u001b[38;5;241m.\u001b[39mget_best_hyperparameters(num_trials\u001b[38;5;241m=\u001b[39m\u001b[38;5;241m1\u001b[39m)[\u001b[38;5;241m0\u001b[39m]\n\u001b[0;32m----> 6\u001b[0m \u001b[38;5;28;01mfor\u001b[39;00m hp, val \u001b[38;5;129;01min\u001b[39;00m best_hps\u001b[38;5;241m.\u001b[39mvalues:\n\u001b[1;32m      7\u001b[0m     \u001b[38;5;28mprint\u001b[39m(\u001b[38;5;124mf\u001b[39m\u001b[38;5;124m\"\u001b[39m\u001b[38;5;124mbest \u001b[39m\u001b[38;5;132;01m{\u001b[39;00mhp\u001b[38;5;132;01m}\u001b[39;00m\u001b[38;5;124m: \u001b[39m\u001b[38;5;132;01m{\u001b[39;00mval\u001b[38;5;132;01m}\u001b[39;00m\u001b[38;5;124m\"\u001b[39m)\n",
      "\u001b[0;31mValueError\u001b[0m: too many values to unpack (expected 2)"
     ]
    }
   ],
   "source": [
    "tuner.search(X_train, y_train, epochs=20, validation_data=(X_test, y_test), batch_size=32)\n",
    "\n",
    "# Get the optimal hyperparameters\n",
    "best_hps = tuner.get_best_hyperparameters(num_trials=1)[0]"
   ]
  },
  {
   "cell_type": "code",
   "execution_count": 14,
   "metadata": {},
   "outputs": [
    {
     "name": "stdout",
     "output_type": "stream",
     "text": [
      "best units: 200\n",
      "best learning_rate: 0.00028925868757120307\n"
     ]
    }
   ],
   "source": [
    "for hp, val in best_hps.values.items():\n",
    "    print(f\"best {hp}: {val}\")"
   ]
  },
  {
   "cell_type": "code",
   "execution_count": 15,
   "metadata": {},
   "outputs": [
    {
     "name": "stdout",
     "output_type": "stream",
     "text": [
      "Epoch 1/20\n",
      "\u001b[1m224/224\u001b[0m \u001b[32m━━━━━━━━━━━━━━━━━━━━\u001b[0m\u001b[37m\u001b[0m \u001b[1m3s\u001b[0m 7ms/step - loss: 0.2137 - val_loss: 0.0896\n",
      "Epoch 2/20\n",
      "\u001b[1m224/224\u001b[0m \u001b[32m━━━━━━━━━━━━━━━━━━━━\u001b[0m\u001b[37m\u001b[0m \u001b[1m2s\u001b[0m 7ms/step - loss: 0.0716 - val_loss: 0.0664\n",
      "Epoch 3/20\n",
      "\u001b[1m224/224\u001b[0m \u001b[32m━━━━━━━━━━━━━━━━━━━━\u001b[0m\u001b[37m\u001b[0m \u001b[1m1s\u001b[0m 6ms/step - loss: 0.0601 - val_loss: 0.0633\n",
      "Epoch 4/20\n",
      "\u001b[1m224/224\u001b[0m \u001b[32m━━━━━━━━━━━━━━━━━━━━\u001b[0m\u001b[37m\u001b[0m \u001b[1m3s\u001b[0m 6ms/step - loss: 0.0577 - val_loss: 0.0611\n",
      "Epoch 5/20\n",
      "\u001b[1m224/224\u001b[0m \u001b[32m━━━━━━━━━━━━━━━━━━━━\u001b[0m\u001b[37m\u001b[0m \u001b[1m3s\u001b[0m 7ms/step - loss: 0.0540 - val_loss: 0.0571\n",
      "Epoch 6/20\n",
      "\u001b[1m224/224\u001b[0m \u001b[32m━━━━━━━━━━━━━━━━━━━━\u001b[0m\u001b[37m\u001b[0m \u001b[1m2s\u001b[0m 5ms/step - loss: 0.0543 - val_loss: 0.0559\n",
      "Epoch 7/20\n",
      "\u001b[1m224/224\u001b[0m \u001b[32m━━━━━━━━━━━━━━━━━━━━\u001b[0m\u001b[37m\u001b[0m \u001b[1m1s\u001b[0m 6ms/step - loss: 0.0536 - val_loss: 0.0548\n",
      "Epoch 8/20\n",
      "\u001b[1m224/224\u001b[0m \u001b[32m━━━━━━━━━━━━━━━━━━━━\u001b[0m\u001b[37m\u001b[0m \u001b[1m1s\u001b[0m 6ms/step - loss: 0.0526 - val_loss: 0.0543\n",
      "Epoch 9/20\n",
      "\u001b[1m224/224\u001b[0m \u001b[32m━━━━━━━━━━━━━━━━━━━━\u001b[0m\u001b[37m\u001b[0m \u001b[1m3s\u001b[0m 6ms/step - loss: 0.0517 - val_loss: 0.0558\n",
      "Epoch 10/20\n",
      "\u001b[1m224/224\u001b[0m \u001b[32m━━━━━━━━━━━━━━━━━━━━\u001b[0m\u001b[37m\u001b[0m \u001b[1m1s\u001b[0m 6ms/step - loss: 0.0531 - val_loss: 0.0540\n",
      "Epoch 11/20\n",
      "\u001b[1m224/224\u001b[0m \u001b[32m━━━━━━━━━━━━━━━━━━━━\u001b[0m\u001b[37m\u001b[0m \u001b[1m2s\u001b[0m 8ms/step - loss: 0.0525 - val_loss: 0.0527\n",
      "Epoch 12/20\n",
      "\u001b[1m224/224\u001b[0m \u001b[32m━━━━━━━━━━━━━━━━━━━━\u001b[0m\u001b[37m\u001b[0m \u001b[1m2s\u001b[0m 6ms/step - loss: 0.0522 - val_loss: 0.0530\n",
      "Epoch 13/20\n",
      "\u001b[1m224/224\u001b[0m \u001b[32m━━━━━━━━━━━━━━━━━━━━\u001b[0m\u001b[37m\u001b[0m \u001b[1m1s\u001b[0m 6ms/step - loss: 0.0523 - val_loss: 0.0526\n",
      "Epoch 14/20\n",
      "\u001b[1m224/224\u001b[0m \u001b[32m━━━━━━━━━━━━━━━━━━━━\u001b[0m\u001b[37m\u001b[0m \u001b[1m3s\u001b[0m 9ms/step - loss: 0.0518 - val_loss: 0.0525\n",
      "Epoch 15/20\n",
      "\u001b[1m224/224\u001b[0m \u001b[32m━━━━━━━━━━━━━━━━━━━━\u001b[0m\u001b[37m\u001b[0m \u001b[1m2s\u001b[0m 7ms/step - loss: 0.0523 - val_loss: 0.0526\n",
      "Epoch 16/20\n",
      "\u001b[1m224/224\u001b[0m \u001b[32m━━━━━━━━━━━━━━━━━━━━\u001b[0m\u001b[37m\u001b[0m \u001b[1m1s\u001b[0m 6ms/step - loss: 0.0513 - val_loss: 0.0524\n",
      "Epoch 17/20\n",
      "\u001b[1m224/224\u001b[0m \u001b[32m━━━━━━━━━━━━━━━━━━━━\u001b[0m\u001b[37m\u001b[0m \u001b[1m3s\u001b[0m 5ms/step - loss: 0.0527 - val_loss: 0.0520\n",
      "Epoch 18/20\n",
      "\u001b[1m224/224\u001b[0m \u001b[32m━━━━━━━━━━━━━━━━━━━━\u001b[0m\u001b[37m\u001b[0m \u001b[1m1s\u001b[0m 6ms/step - loss: 0.0519 - val_loss: 0.0541\n",
      "Epoch 19/20\n",
      "\u001b[1m224/224\u001b[0m \u001b[32m━━━━━━━━━━━━━━━━━━━━\u001b[0m\u001b[37m\u001b[0m \u001b[1m1s\u001b[0m 6ms/step - loss: 0.0521 - val_loss: 0.0516\n",
      "Epoch 20/20\n",
      "\u001b[1m224/224\u001b[0m \u001b[32m━━━━━━━━━━━━━━━━━━━━\u001b[0m\u001b[37m\u001b[0m \u001b[1m3s\u001b[0m 6ms/step - loss: 0.0514 - val_loss: 0.0540\n"
     ]
    }
   ],
   "source": [
    "lstm_autoencoder= tuner.hypermodel.build(best_hps)\n",
    "history = lstm_autoencoder.fit(X_train, y_train, epochs=20, validation_data=(X_test, y_test), batch_size=32)\n"
   ]
  },
  {
   "cell_type": "code",
   "execution_count": 16,
   "metadata": {},
   "outputs": [],
   "source": [
    "def plot_loss(training_history):\n",
    "    # Extract the loss values for each epoch\n",
    "    train_loss = training_history.history['loss']\n",
    "    val_loss = training_history.history['val_loss']\n",
    "\n",
    "    # Plot training and validation loss\n",
    "    plt.figure(figsize=(10, 6))\n",
    "    plt.plot(train_loss, label='Training Loss')\n",
    "    plt.plot(val_loss, label='Validation Loss')\n",
    "    plt.title('Training and Validation Loss over Epochs')\n",
    "    plt.xlabel('Epochs')\n",
    "    plt.ylabel('Loss')\n",
    "    plt.legend()\n",
    "    plt.grid(True)\n",
    "    plt.show()"
   ]
  },
  {
   "cell_type": "code",
   "execution_count": 17,
   "metadata": {},
   "outputs": [
    {
     "data": {
      "image/png": "[encoded data removed]",
      "text/plain": [
       "<Figure size 1000x600 with 1 Axes>"
      ]
     },
     "metadata": {},
     "output_type": "display_data"
    }
   ],
   "source": [
    "plot_loss(history)"
   ]
  },
  {
   "cell_type": "code",
   "execution_count": 18,
   "metadata": {},
   "outputs": [
    {
     "data": {
      "text/plain": [
       "(1784, 1, 12)"
      ]
     },
     "execution_count": 18,
     "metadata": {},
     "output_type": "execute_result"
    }
   ],
   "source": [
    "y_test.shape"
   ]
  },
  {
   "cell_type": "code",
   "execution_count": 19,
   "metadata": {},
   "outputs": [
    {
     "name": "stdout",
     "output_type": "stream",
     "text": [
      "\u001b[1m56/56\u001b[0m \u001b[32m━━━━━━━━━━━━━━━━━━━━\u001b[0m\u001b[37m\u001b[0m \u001b[1m0s\u001b[0m 5ms/step\n",
      "MAE: 0.05395504115324834\n"
     ]
    }
   ],
   "source": [
    "y_pred = lstm_autoencoder.predict(X_test)\n",
    "\n",
    "# Calculate MAE\n",
    "test_mae = mean_absolute_error(y_test.reshape((y_test.shape[0], y_test.shape[2])), y_pred.reshape((y_pred.shape[0], y_pred.shape[2])))\n",
    "\n",
    "print(f'MAE: {test_mae}')"
   ]
  },
  {
   "cell_type": "code",
   "execution_count": 20,
   "metadata": {},
   "outputs": [
    {
     "name": "stderr",
     "output_type": "stream",
     "text": [
      "/opt/conda/envs/ds_env/lib/python3.10/site-packages/sklearn/base.py:376: InconsistentVersionWarning: Trying to unpickle estimator MinMaxScaler from version 1.4.1.post1 when using version 1.4.2. This might lead to breaking code or invalid results. Use at your own risk. For more info please refer to:\n",
      "https://scikit-learn.org/stable/model_persistence.html#security-maintainability-limitations\n",
      "  warnings.warn(\n"
     ]
    }
   ],
   "source": [
    "with open('scaler.pkl', 'rb') as file:\n",
    "    scaler = pickle.load(file)"
   ]
  },
  {
   "cell_type": "code",
   "execution_count": 21,
   "metadata": {},
   "outputs": [
    {
     "name": "stdout",
     "output_type": "stream",
     "text": [
      "[[0.06349206 0.23431734 0.04923077 0.1354946  0.10839161 0.48840927\n",
      "  0.2248996  0.28753316 0.20551378 0.33548387 0.678      0.42652592]]\n",
      "\u001b[1m1/1\u001b[0m \u001b[32m━━━━━━━━━━━━━━━━━━━━\u001b[0m\u001b[37m\u001b[0m \u001b[1m0s\u001b[0m 13ms/step\n"
     ]
    },
    {
     "name": "stderr",
     "output_type": "stream",
     "text": [
      "/opt/conda/envs/ds_env/lib/python3.10/site-packages/sklearn/base.py:493: UserWarning: X does not have valid feature names, but MinMaxScaler was fitted with feature names\n",
      "  warnings.warn(\n"
     ]
    },
    {
     "data": {
      "text/plain": [
       "array([[[0.09712005, 0.25990155, 0.08271775, 0.20171157, 0.12976825,\n",
       "         0.46165904, 0.23878837, 0.30499503, 0.23073597, 0.32350758,\n",
       "         0.6866172 , 0.42595157]]], dtype=float32)"
      ]
     },
     "execution_count": 21,
     "metadata": {},
     "output_type": "execute_result"
    }
   ],
   "source": [
    "# Test predictions with an array from the original scale\n",
    "input_vals = np.array([0.5,921,1.9,575,95,956,58,1143,672,13.7,67.8,1.0575])\n",
    "input_vals = input_vals.reshape(1, -1)\n",
    "rh = input_vals[:, 10].reshape(-1, 1) \n",
    "input_vals = scaler.transform(input_vals[:, [i for i in range(input_vals.shape[1]) if i != 10]])\n",
    "input_vals = np.insert(input_vals, 10, rh/100, axis=1)\n",
    "print(input_vals)\n",
    "\n",
    "input_arr = input_vals.reshape((1, 1, 12))\n",
    "\n",
    "y_pred = lstm_autoencoder.predict(input_arr)\n",
    "y_pred"
   ]
  },
  {
   "cell_type": "code",
   "execution_count": 22,
   "metadata": {},
   "outputs": [
    {
     "name": "stdout",
     "output_type": "stream",
     "text": [
      "(1, 11)\n",
      "[[7.1185631e-01 9.4873334e+02 2.9883268e+00 6.5465900e+02 1.1334116e+02\n",
      "  9.2253546e+02 6.1458302e+01 1.1759156e+03 7.2231830e+02 1.3143103e+01\n",
      "  1.0563247e+00]]\n",
      "co_gt: 0.7118563055992126\n",
      "s1_co: 948.7333374023438\n",
      "c6h6_gt: 2.9883267879486084\n",
      "s2_nhmc: 654.6589965820312\n",
      "nox_gt: 113.3411636352539\n",
      "s3_nox: 922.5354614257812\n",
      "no2_gt: 61.45830154418945\n",
      "s4_no2: 1175.9156494140625\n",
      "s5_o3: 722.3182983398438\n",
      "temp: 13.143102645874023\n",
      "rh: 0.6866171956062317\n",
      "ah: 1.0563247203826904\n"
     ]
    }
   ],
   "source": [
    "y_pred = y_pred.reshape(-1, N_FEATURES)\n",
    "# scale features except rh\n",
    "input_to_invert = y_pred[:, [i for i in range(y_pred.shape[1]) if i != 10]]\n",
    "print(input_to_invert.shape)\n",
    "outputs = scaler.inverse_transform(input_to_invert)\n",
    "print(outputs)\n",
    "outputs = np.insert(outputs, 10, y_pred[:, 10], axis=1)\n",
    "\n",
    "for feature, val in zip(df.columns, outputs.reshape(N_FEATURES)):\n",
    "    print(f\"{feature}: {val}\")"
   ]
  }
 ],
 "metadata": {
  "kernelspec": {
   "display_name": "ds_env",
   "language": "python",
   "name": "python3"
  },
  "language_info": {
   "codemirror_mode": {
    "name": "ipython",
    "version": 3
   },
   "file_extension": ".py",
   "mimetype": "text/x-python",
   "name": "python",
   "nbconvert_exporter": "python",
   "pygments_lexer": "ipython3",
   "version": "3.10.0"
  }
 },
 "nbformat": 4,
 "nbformat_minor": 2
}
